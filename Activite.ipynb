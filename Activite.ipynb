{
 "cells": [
  {
   "cell_type": "markdown",
   "metadata": {},
   "source": [
    "# La classification en analyse du langage naturel\n",
    "\n",
    "<img src=\"https://cdn.pixabay.com/photo/2017/09/07/10/07/english-2724442_960_720.jpg\" alt=\"drawing\" width=\"500\"/>\n",
    "\n",
    "Pour **l'analyse du langage naturel**, le **workflow classique** de machine learning doit **être adapté**. En particulier, il faut ajouter des étapes de **pré-traitement**.\n",
    "\n",
    "## Activité de recherche d'informations :\n",
    "\n",
    "- Qu'est qu'un document en NLP ? un corpus ?\n",
    "\n",
    "- Qu'est-ce la tokenisation ?\n",
    "\n",
    "- En quoi consiste le sac de mots (bag-of-word) ?\n",
    "\n",
    "- A quoi correspondent les n-grams ?\n",
    "\n",
    "- Qu'est-ce que Tf-idf ?\n",
    "\n",
    "- Qu'est-ce que la racinisation/stemmatisation ? Quelle est la différence avec la lemmatisation ?\n",
    "\n",
    "- Trouver 3 noms de bibliothèques pour le NLP en Python"
   ]
  },
  {
   "cell_type": "markdown",
   "metadata": {},
   "source": [
    "## Activité de classification en NLP :\n",
    "\n",
    "<img src=\"https://cdn.pixabay.com/photo/2015/12/09/17/12/popcorn-1085072_960_720.jpg\" alt=\"drawing\" width=\"500\"/>\n",
    "\n",
    "Dans cette activité, nous allons travailler sur des avis au sujet de films (base de données IMDB). L'objectif est de catégoriser ces avis suivant qu'ils sont **positifs** ou **négatifs** (analyse de sentiment).\n",
    "\n",
    "- Récupérer le jeu de données `IMDB Dataset.csv`\n",
    "\n",
    "- Analyser le contenu et le déséquilibre de classes\n",
    "\n",
    "- Créer un bag of words à l'aide de la classe `CountVectorizer()` de scikit-learn (https://scikit-learn.org/stable/modules/generated/sklearn.feature_extraction.text.CountVectorizer.html). Ne pas prendre en compte les mots qui apparaissent plus de 5 fois par phrase et utiliser une liste de stop-words\n",
    "\n",
    "- Effectuer un entrainement de modèles de classification pour prédire la classe \"positif\" ou \"négatif\"\n",
    "\n",
    "- Analyser les métriques de qualité d'entrainement du modèle\n",
    "\n",
    "- Reprendre le workflow d'entrainement du modèle en ajoutant une étape de pré-traitement de stemmatisation : utiliser une classe de stemmatisation de la bibliothèque `nltk` en la testant d'abord sur quelques mots pour voir son fonctionnement. Analyser les métriques de classification et comparer aux résultats précédents\n",
    "\n",
    "- Même chose avec la lemmatisation toujours avec la bibliothèque `nltk`\n",
    "\n",
    "- Même chose en utilisant des bigrams pour le bag of words\n",
    "\n",
    "- Même chose en utilisant des bigrams pour le Tf-idf"
   ]
  },
  {
   "cell_type": "code",
   "execution_count": null,
   "metadata": {},
   "outputs": [],
   "source": []
  }
 ],
 "metadata": {
  "interpreter": {
   "hash": "aca6032e0b4772da3d8fd28bb8500b473a0a1334f31947f83137df2025b78902"
  },
  "kernelspec": {
   "display_name": "Python 3.9.6 ('.venv': pipenv)",
   "language": "python",
   "name": "python3"
  },
  "language_info": {
   "codemirror_mode": {
    "name": "ipython",
    "version": 3
   },
   "file_extension": ".py",
   "mimetype": "text/x-python",
   "name": "python",
   "nbconvert_exporter": "python",
   "pygments_lexer": "ipython3",
   "version": "3.9.6"
  },
  "orig_nbformat": 4
 },
 "nbformat": 4,
 "nbformat_minor": 2
}
